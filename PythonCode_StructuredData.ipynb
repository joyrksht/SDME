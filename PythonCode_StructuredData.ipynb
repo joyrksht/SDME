{
 "cells": [
  {
   "cell_type": "code",
   "execution_count": 5,
   "metadata": {},
   "outputs": [],
   "source": [
    "import random\n",
    "import datetime\n",
    "\n",
    "filename = 'D:\\OVGU\\Solution_design\\PythonCode\\RawFileArduino.csv'  #Raw file location\n",
    "\n",
    "with open(filename) as fn:  \n",
    "\n",
    "# Read second-last line\n",
    "    ln = fn.readlines()[-2]\n",
    "\n",
    "rawdata = ln.strip();\n",
    "split1 = rawdata.split(',')\n",
    "\n",
    "lst = [split1[1].split(\"=\",1)[1], split1[3].split(\"=\",1)[1]] #Temparature, OxygenLevel\n",
    "\n",
    "#print(\"{}\".format(lst))\n",
    "\n",
    "#Defining Names\n",
    "#Random func to insert data into database with a name and student id\n",
    "stud_names = ['786579,Ehsan Amini','786735,Sumeet Dekate','785324,Dibyasree Biswas','789678,Joy Rakshit'] \n",
    "select_name = random.choice(stud_names)\n",
    "\n",
    "#print(\"{}\".format(select_name))\n",
    "\n",
    "\n",
    "#Date-Time\n",
    "dt = datetime.datetime.now().strftime(\"%d-%b-%Y %H:%M:%S\")\n",
    "#print(\"{}\".format(dt))\n",
    "\n",
    "ready_data = dt+','+select_name+','+lst[0]+','+lst[1]\n",
    "#print(\"{}\".format(ready_data))\n",
    "\n",
    "#Saving data to database\n",
    "f = open(\"D:\\OVGU\\Solution_design\\WebProject\\Student_Database.csv\", \"a\")\n",
    "f.writelines('\"'+ready_data+'\"'+ \"\\n\")\n",
    "f.close()"
   ]
  },
  {
   "cell_type": "code",
   "execution_count": null,
   "metadata": {},
   "outputs": [],
   "source": []
  },
  {
   "cell_type": "code",
   "execution_count": null,
   "metadata": {},
   "outputs": [],
   "source": []
  },
  {
   "cell_type": "code",
   "execution_count": null,
   "metadata": {},
   "outputs": [],
   "source": []
  }
 ],
 "metadata": {
  "kernelspec": {
   "display_name": "Python 3",
   "language": "python",
   "name": "python3"
  },
  "language_info": {
   "codemirror_mode": {
    "name": "ipython",
    "version": 3
   },
   "file_extension": ".py",
   "mimetype": "text/x-python",
   "name": "python",
   "nbconvert_exporter": "python",
   "pygments_lexer": "ipython3",
   "version": "3.7.6"
  }
 },
 "nbformat": 4,
 "nbformat_minor": 4
}
